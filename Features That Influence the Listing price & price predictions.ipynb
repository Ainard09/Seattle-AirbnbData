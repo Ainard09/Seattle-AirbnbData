{
 "cells": [
  {
   "cell_type": "markdown",
   "id": "d1858fa8",
   "metadata": {},
   "source": [
    "# Project: Write a data science blog post\n",
    "\n",
    "## Business Understanding \n",
    "\n",
    " My focus on this project was to use Seattle Airbnb data to understand;\n",
    "\n",
    "1. Areas with most Airbnb properties and expensive areas in the city\n",
    "2. Seasonal changes in price of listing\n",
    "3. The factors that influence the listing price"
   ]
  },
  {
   "cell_type": "code",
   "execution_count": 1,
   "id": "70d04473",
   "metadata": {},
   "outputs": [
    {
     "data": {
      "text/html": [
       "<div>\n",
       "<style scoped>\n",
       "    .dataframe tbody tr th:only-of-type {\n",
       "        vertical-align: middle;\n",
       "    }\n",
       "\n",
       "    .dataframe tbody tr th {\n",
       "        vertical-align: top;\n",
       "    }\n",
       "\n",
       "    .dataframe thead th {\n",
       "        text-align: right;\n",
       "    }\n",
       "</style>\n",
       "<table border=\"1\" class=\"dataframe\">\n",
       "  <thead>\n",
       "    <tr style=\"text-align: right;\">\n",
       "      <th></th>\n",
       "      <th>id</th>\n",
       "      <th>listing_url</th>\n",
       "      <th>scrape_id</th>\n",
       "      <th>last_scraped</th>\n",
       "      <th>name</th>\n",
       "      <th>summary</th>\n",
       "      <th>space</th>\n",
       "      <th>description</th>\n",
       "      <th>experiences_offered</th>\n",
       "      <th>neighborhood_overview</th>\n",
       "      <th>...</th>\n",
       "      <th>review_scores_value</th>\n",
       "      <th>requires_license</th>\n",
       "      <th>license</th>\n",
       "      <th>jurisdiction_names</th>\n",
       "      <th>instant_bookable</th>\n",
       "      <th>cancellation_policy</th>\n",
       "      <th>require_guest_profile_picture</th>\n",
       "      <th>require_guest_phone_verification</th>\n",
       "      <th>calculated_host_listings_count</th>\n",
       "      <th>reviews_per_month</th>\n",
       "    </tr>\n",
       "  </thead>\n",
       "  <tbody>\n",
       "    <tr>\n",
       "      <th>0</th>\n",
       "      <td>241032</td>\n",
       "      <td>https://www.airbnb.com/rooms/241032</td>\n",
       "      <td>20160104002432</td>\n",
       "      <td>2016-01-04</td>\n",
       "      <td>Stylish Queen Anne Apartment</td>\n",
       "      <td>NaN</td>\n",
       "      <td>Make your self at home in this charming one-be...</td>\n",
       "      <td>Make your self at home in this charming one-be...</td>\n",
       "      <td>none</td>\n",
       "      <td>NaN</td>\n",
       "      <td>...</td>\n",
       "      <td>10.0</td>\n",
       "      <td>f</td>\n",
       "      <td>NaN</td>\n",
       "      <td>WASHINGTON</td>\n",
       "      <td>f</td>\n",
       "      <td>moderate</td>\n",
       "      <td>f</td>\n",
       "      <td>f</td>\n",
       "      <td>2</td>\n",
       "      <td>4.07</td>\n",
       "    </tr>\n",
       "    <tr>\n",
       "      <th>1</th>\n",
       "      <td>953595</td>\n",
       "      <td>https://www.airbnb.com/rooms/953595</td>\n",
       "      <td>20160104002432</td>\n",
       "      <td>2016-01-04</td>\n",
       "      <td>Bright &amp; Airy Queen Anne Apartment</td>\n",
       "      <td>Chemically sensitive? We've removed the irrita...</td>\n",
       "      <td>Beautiful, hypoallergenic apartment in an extr...</td>\n",
       "      <td>Chemically sensitive? We've removed the irrita...</td>\n",
       "      <td>none</td>\n",
       "      <td>Queen Anne is a wonderful, truly functional vi...</td>\n",
       "      <td>...</td>\n",
       "      <td>10.0</td>\n",
       "      <td>f</td>\n",
       "      <td>NaN</td>\n",
       "      <td>WASHINGTON</td>\n",
       "      <td>f</td>\n",
       "      <td>strict</td>\n",
       "      <td>t</td>\n",
       "      <td>t</td>\n",
       "      <td>6</td>\n",
       "      <td>1.48</td>\n",
       "    </tr>\n",
       "  </tbody>\n",
       "</table>\n",
       "<p>2 rows × 92 columns</p>\n",
       "</div>"
      ],
      "text/plain": [
       "       id                          listing_url       scrape_id last_scraped  \\\n",
       "0  241032  https://www.airbnb.com/rooms/241032  20160104002432   2016-01-04   \n",
       "1  953595  https://www.airbnb.com/rooms/953595  20160104002432   2016-01-04   \n",
       "\n",
       "                                 name  \\\n",
       "0        Stylish Queen Anne Apartment   \n",
       "1  Bright & Airy Queen Anne Apartment   \n",
       "\n",
       "                                             summary  \\\n",
       "0                                                NaN   \n",
       "1  Chemically sensitive? We've removed the irrita...   \n",
       "\n",
       "                                               space  \\\n",
       "0  Make your self at home in this charming one-be...   \n",
       "1  Beautiful, hypoallergenic apartment in an extr...   \n",
       "\n",
       "                                         description experiences_offered  \\\n",
       "0  Make your self at home in this charming one-be...                none   \n",
       "1  Chemically sensitive? We've removed the irrita...                none   \n",
       "\n",
       "                               neighborhood_overview  ... review_scores_value  \\\n",
       "0                                                NaN  ...                10.0   \n",
       "1  Queen Anne is a wonderful, truly functional vi...  ...                10.0   \n",
       "\n",
       "  requires_license license jurisdiction_names instant_bookable  \\\n",
       "0                f     NaN         WASHINGTON                f   \n",
       "1                f     NaN         WASHINGTON                f   \n",
       "\n",
       "  cancellation_policy  require_guest_profile_picture  \\\n",
       "0            moderate                              f   \n",
       "1              strict                              t   \n",
       "\n",
       "  require_guest_phone_verification calculated_host_listings_count  \\\n",
       "0                                f                              2   \n",
       "1                                t                              6   \n",
       "\n",
       "  reviews_per_month  \n",
       "0              4.07  \n",
       "1              1.48  \n",
       "\n",
       "[2 rows x 92 columns]"
      ]
     },
     "execution_count": 1,
     "metadata": {},
     "output_type": "execute_result"
    }
   ],
   "source": [
    "import numpy as np\n",
    "import pandas as pd\n",
    "import matplotlib.pyplot as plt\n",
    "import seaborn as sns\n",
    "from sklearn.linear_model import LinearRegression\n",
    "from sklearn.model_selection import train_test_split\n",
    "from sklearn.metrics import r2_score, mean_squared_error\n",
    "%matplotlib inline\n",
    "\n",
    "#read csv files from machine\n",
    "listings_df = pd.read_csv('Seattle.listings.csv')\n",
    "calendar_df = pd.read_csv('Seattle.calendar.csv')\n",
    "reviews_df = pd.read_csv('Seattle.reviews.csv')\n",
    "listings_df.head(2"
   ]
  },
  {
   "cell_type": "markdown",
   "id": "5f7251d9",
   "metadata": {},
   "source": [
    "# Data Preparation\n",
    "\n",
    "## Data cleaning and wrangling"
   ]
  },
  {
   "cell_type": "code",
   "execution_count": 2,
   "id": "ac2ae9a2",
   "metadata": {},
   "outputs": [],
   "source": [
    "# convert string to float on price related columns\n",
    "def clean_price(col):\n",
    "    '''\n",
    "    INPUT\n",
    "    col - The price related column needed to be converted to float datatype\n",
    "    \n",
    "    OUTPUT\n",
    "    col - column with convtered values to float datatype\n",
    "    '''\n",
    "    col = col.apply(lambda x: float((x[1:].replace(',',''))) if type(x) != float else x)\n",
    "    return col  "
   ]
  },
  {
   "cell_type": "code",
   "execution_count": 3,
   "id": "507a9040",
   "metadata": {},
   "outputs": [],
   "source": [
    "# remove the $ sign of related price columns\n",
    "listings_df['price'] = clean_price(listings_df['price'])\n",
    "listings_df['cleaning_fee'] = clean_price(listings_df['cleaning_fee'])\n",
    "listings_df['weekly_price'] = clean_price(listings_df['weekly_price'])\n",
    "listings_df['monthly_price'] = clean_price(listings_df['monthly_price'])"
   ]
  },
  {
   "cell_type": "code",
   "execution_count": 4,
   "id": "2d48720a",
   "metadata": {
    "scrolled": false
   },
   "outputs": [
    {
     "data": {
      "image/png": "[encoded data removed]",
      "text/plain": [
       "<Figure size 1080x360 with 1 Axes>"
      ]
     },
     "metadata": {
      "needs_background": "light"
     },
     "output_type": "display_data"
    }
   ],
   "source": [
    "# Average of listing price in relation property type\n",
    "prop_var = listings_df.groupby(listings_df['property_type'])['price'].mean().sort_values().reset_index()\n",
    "\n",
    "# Plot the bar of relationship btween properties and listing prices\n",
    "plt.figure(figsize = (15,5))\n",
    "plt.bar(prop_var['property_type'], prop_var['price'])\n",
    "plt.xlabel('Area')\n",
    "plt.xticks(prop_var['property_type'], rotation = 90)\n",
    "plt.ylabel('Average price')\n",
    "plt.title('Relationship between property and price')\n",
    "plt.show()"
   ]
  },
  {
   "cell_type": "code",
   "execution_count": 5,
   "id": "9d86d0b6",
   "metadata": {},
   "outputs": [
    {
     "data": {
      "text/html": [
       "<div>\n",
       "<style scoped>\n",
       "    .dataframe tbody tr th:only-of-type {\n",
       "        vertical-align: middle;\n",
       "    }\n",
       "\n",
       "    .dataframe tbody tr th {\n",
       "        vertical-align: top;\n",
       "    }\n",
       "\n",
       "    .dataframe thead th {\n",
       "        text-align: right;\n",
       "    }\n",
       "</style>\n",
       "<table border=\"1\" class=\"dataframe\">\n",
       "  <thead>\n",
       "    <tr style=\"text-align: right;\">\n",
       "      <th></th>\n",
       "      <th>bedrooms</th>\n",
       "      <th>price</th>\n",
       "    </tr>\n",
       "  </thead>\n",
       "  <tbody>\n",
       "    <tr>\n",
       "      <th>0</th>\n",
       "      <td>0.0</td>\n",
       "      <td>103.548387</td>\n",
       "    </tr>\n",
       "    <tr>\n",
       "      <th>1</th>\n",
       "      <td>1.0</td>\n",
       "      <td>95.706247</td>\n",
       "    </tr>\n",
       "    <tr>\n",
       "      <th>2</th>\n",
       "      <td>2.0</td>\n",
       "      <td>174.062500</td>\n",
       "    </tr>\n",
       "    <tr>\n",
       "      <th>3</th>\n",
       "      <td>3.0</td>\n",
       "      <td>249.530035</td>\n",
       "    </tr>\n",
       "    <tr>\n",
       "      <th>4</th>\n",
       "      <td>4.0</td>\n",
       "      <td>313.695652</td>\n",
       "    </tr>\n",
       "    <tr>\n",
       "      <th>5</th>\n",
       "      <td>5.0</td>\n",
       "      <td>441.000000</td>\n",
       "    </tr>\n",
       "    <tr>\n",
       "      <th>6</th>\n",
       "      <td>6.0</td>\n",
       "      <td>578.166667</td>\n",
       "    </tr>\n",
       "    <tr>\n",
       "      <th>7</th>\n",
       "      <td>7.0</td>\n",
       "      <td>375.000000</td>\n",
       "    </tr>\n",
       "  </tbody>\n",
       "</table>\n",
       "</div>"
      ],
      "text/plain": [
       "   bedrooms       price\n",
       "0       0.0  103.548387\n",
       "1       1.0   95.706247\n",
       "2       2.0  174.062500\n",
       "3       3.0  249.530035\n",
       "4       4.0  313.695652\n",
       "5       5.0  441.000000\n",
       "6       6.0  578.166667\n",
       "7       7.0  375.000000"
      ]
     },
     "execution_count": 5,
     "metadata": {},
     "output_type": "execute_result"
    }
   ],
   "source": [
    "# Average of listing price in relation bedrooms\n",
    "bedroom_var = listings_df.groupby(listings_df['bedrooms'])['price'].mean().reset_index()\n",
    "bedroom_var"
   ]
  },
  {
   "cell_type": "code",
   "execution_count": 6,
   "id": "7d7f6463",
   "metadata": {
    "scrolled": true
   },
   "outputs": [
    {
     "data": {
      "text/html": [
       "<div>\n",
       "<style scoped>\n",
       "    .dataframe tbody tr th:only-of-type {\n",
       "        vertical-align: middle;\n",
       "    }\n",
       "\n",
       "    .dataframe tbody tr th {\n",
       "        vertical-align: top;\n",
       "    }\n",
       "\n",
       "    .dataframe thead th {\n",
       "        text-align: right;\n",
       "    }\n",
       "</style>\n",
       "<table border=\"1\" class=\"dataframe\">\n",
       "  <thead>\n",
       "    <tr style=\"text-align: right;\">\n",
       "      <th></th>\n",
       "      <th>zipcode</th>\n",
       "      <th>price</th>\n",
       "    </tr>\n",
       "  </thead>\n",
       "  <tbody>\n",
       "    <tr>\n",
       "      <th>0</th>\n",
       "      <td>99\\n98122</td>\n",
       "      <td>67.000000</td>\n",
       "    </tr>\n",
       "    <tr>\n",
       "      <th>1</th>\n",
       "      <td>98106</td>\n",
       "      <td>82.103448</td>\n",
       "    </tr>\n",
       "    <tr>\n",
       "      <th>2</th>\n",
       "      <td>98108</td>\n",
       "      <td>83.875000</td>\n",
       "    </tr>\n",
       "    <tr>\n",
       "      <th>3</th>\n",
       "      <td>98133</td>\n",
       "      <td>86.282609</td>\n",
       "    </tr>\n",
       "    <tr>\n",
       "      <th>4</th>\n",
       "      <td>98125</td>\n",
       "      <td>88.577465</td>\n",
       "    </tr>\n",
       "    <tr>\n",
       "      <th>5</th>\n",
       "      <td>98118</td>\n",
       "      <td>93.798701</td>\n",
       "    </tr>\n",
       "    <tr>\n",
       "      <th>6</th>\n",
       "      <td>98178</td>\n",
       "      <td>94.428571</td>\n",
       "    </tr>\n",
       "    <tr>\n",
       "      <th>7</th>\n",
       "      <td>98146</td>\n",
       "      <td>97.800000</td>\n",
       "    </tr>\n",
       "    <tr>\n",
       "      <th>8</th>\n",
       "      <td>98177</td>\n",
       "      <td>98.842105</td>\n",
       "    </tr>\n",
       "    <tr>\n",
       "      <th>9</th>\n",
       "      <td>98144</td>\n",
       "      <td>105.395000</td>\n",
       "    </tr>\n",
       "    <tr>\n",
       "      <th>10</th>\n",
       "      <td>98105</td>\n",
       "      <td>107.111111</td>\n",
       "    </tr>\n",
       "    <tr>\n",
       "      <th>11</th>\n",
       "      <td>98117</td>\n",
       "      <td>111.262195</td>\n",
       "    </tr>\n",
       "    <tr>\n",
       "      <th>12</th>\n",
       "      <td>98115</td>\n",
       "      <td>112.129213</td>\n",
       "    </tr>\n",
       "    <tr>\n",
       "      <th>13</th>\n",
       "      <td>98126</td>\n",
       "      <td>122.730159</td>\n",
       "    </tr>\n",
       "    <tr>\n",
       "      <th>14</th>\n",
       "      <td>98103</td>\n",
       "      <td>124.149746</td>\n",
       "    </tr>\n",
       "    <tr>\n",
       "      <th>15</th>\n",
       "      <td>98102</td>\n",
       "      <td>127.103245</td>\n",
       "    </tr>\n",
       "    <tr>\n",
       "      <th>16</th>\n",
       "      <td>98107</td>\n",
       "      <td>130.238889</td>\n",
       "    </tr>\n",
       "    <tr>\n",
       "      <th>17</th>\n",
       "      <td>98122</td>\n",
       "      <td>132.492857</td>\n",
       "    </tr>\n",
       "    <tr>\n",
       "      <th>18</th>\n",
       "      <td>98104</td>\n",
       "      <td>135.221053</td>\n",
       "    </tr>\n",
       "    <tr>\n",
       "      <th>19</th>\n",
       "      <td>98112</td>\n",
       "      <td>135.437126</td>\n",
       "    </tr>\n",
       "    <tr>\n",
       "      <th>20</th>\n",
       "      <td>98136</td>\n",
       "      <td>137.909091</td>\n",
       "    </tr>\n",
       "    <tr>\n",
       "      <th>21</th>\n",
       "      <td>98116</td>\n",
       "      <td>145.348214</td>\n",
       "    </tr>\n",
       "    <tr>\n",
       "      <th>22</th>\n",
       "      <td>98109</td>\n",
       "      <td>150.247525</td>\n",
       "    </tr>\n",
       "    <tr>\n",
       "      <th>23</th>\n",
       "      <td>98121</td>\n",
       "      <td>153.785714</td>\n",
       "    </tr>\n",
       "    <tr>\n",
       "      <th>24</th>\n",
       "      <td>98119</td>\n",
       "      <td>166.377622</td>\n",
       "    </tr>\n",
       "    <tr>\n",
       "      <th>25</th>\n",
       "      <td>98101</td>\n",
       "      <td>166.721393</td>\n",
       "    </tr>\n",
       "    <tr>\n",
       "      <th>26</th>\n",
       "      <td>98199</td>\n",
       "      <td>172.393939</td>\n",
       "    </tr>\n",
       "    <tr>\n",
       "      <th>27</th>\n",
       "      <td>98134</td>\n",
       "      <td>206.600000</td>\n",
       "    </tr>\n",
       "  </tbody>\n",
       "</table>\n",
       "</div>"
      ],
      "text/plain": [
       "      zipcode       price\n",
       "0   99\\n98122   67.000000\n",
       "1       98106   82.103448\n",
       "2       98108   83.875000\n",
       "3       98133   86.282609\n",
       "4       98125   88.577465\n",
       "5       98118   93.798701\n",
       "6       98178   94.428571\n",
       "7       98146   97.800000\n",
       "8       98177   98.842105\n",
       "9       98144  105.395000\n",
       "10      98105  107.111111\n",
       "11      98117  111.262195\n",
       "12      98115  112.129213\n",
       "13      98126  122.730159\n",
       "14      98103  124.149746\n",
       "15      98102  127.103245\n",
       "16      98107  130.238889\n",
       "17      98122  132.492857\n",
       "18      98104  135.221053\n",
       "19      98112  135.437126\n",
       "20      98136  137.909091\n",
       "21      98116  145.348214\n",
       "22      98109  150.247525\n",
       "23      98121  153.785714\n",
       "24      98119  166.377622\n",
       "25      98101  166.721393\n",
       "26      98199  172.393939\n",
       "27      98134  206.600000"
      ]
     },
     "execution_count": 6,
     "metadata": {},
     "output_type": "execute_result"
    }
   ],
   "source": [
    "# Average of listing price in relation street\n",
    "zip_var = listings_df.groupby(listings_df['zipcode'])['price'].mean().sort_values().reset_index()\n",
    "zip_var"
   ]
  },
  {
   "cell_type": "code",
   "execution_count": 10,
   "id": "f4cc651c",
   "metadata": {},
   "outputs": [
    {
     "data": {
      "image/png": "[encoded data removed]",
      "text/plain": [
       "<Figure size 1080x360 with 1 Axes>"
      ]
     },
     "metadata": {
      "needs_background": "light"
     },
     "output_type": "display_data"
    },
    {
     "data": {
      "text/plain": [
       "<Figure size 432x288 with 0 Axes>"
      ]
     },
     "metadata": {},
     "output_type": "display_data"
    }
   ],
   "source": [
    "plt.figure(figsize = (15,5))\n",
    "plt.bar(zip_var['zipcode'], zip_var['price'])\n",
    "plt.xlabel('Area')\n",
    "plt.xticks(zip_var['zipcode'], rotation = 90)\n",
    "plt.ylabel('Average price')\n",
    "plt.title('Expensive Areas in the city')\n",
    "plt.show()"
   ]
  },
  {
   "cell_type": "markdown",
   "id": "c25cdbaf",
   "metadata": {},
   "source": [
    "# Question 1: Areas with most Airbnb properties and expensive areas in the city\n",
    "\n",
    "From the plot graph, the expensive property types in the city are boat and condomonium and cheap properties are dorm and tent. Zipcode with 98123 and 98199 take lead in expensive areas in the city and cheap area with zipcode 98122"
   ]
  },
  {
   "cell_type": "markdown",
   "id": "0771e436",
   "metadata": {},
   "source": [
    "# Modelling \n",
    "\n",
    "## Price prediction"
   ]
  },
  {
   "cell_type": "code",
   "execution_count": 7,
   "id": "5cc059db",
   "metadata": {},
   "outputs": [
    {
     "data": {
      "text/html": [
       "<div>\n",
       "<style scoped>\n",
       "    .dataframe tbody tr th:only-of-type {\n",
       "        vertical-align: middle;\n",
       "    }\n",
       "\n",
       "    .dataframe tbody tr th {\n",
       "        vertical-align: top;\n",
       "    }\n",
       "\n",
       "    .dataframe thead th {\n",
       "        text-align: right;\n",
       "    }\n",
       "</style>\n",
       "<table border=\"1\" class=\"dataframe\">\n",
       "  <thead>\n",
       "    <tr style=\"text-align: right;\">\n",
       "      <th></th>\n",
       "      <th>beds</th>\n",
       "      <th>bedrooms</th>\n",
       "      <th>price</th>\n",
       "      <th>cleaning_fee</th>\n",
       "      <th>bathrooms</th>\n",
       "      <th>accommodates</th>\n",
       "      <th>reviews_per_month</th>\n",
       "      <th>weekly_price</th>\n",
       "      <th>monthly_price</th>\n",
       "      <th>instant_bookable</th>\n",
       "      <th>cancellation_policy</th>\n",
       "    </tr>\n",
       "  </thead>\n",
       "  <tbody>\n",
       "    <tr>\n",
       "      <th>0</th>\n",
       "      <td>1.0</td>\n",
       "      <td>1.0</td>\n",
       "      <td>85.0</td>\n",
       "      <td>NaN</td>\n",
       "      <td>1.0</td>\n",
       "      <td>4</td>\n",
       "      <td>4.07</td>\n",
       "      <td>NaN</td>\n",
       "      <td>NaN</td>\n",
       "      <td>f</td>\n",
       "      <td>moderate</td>\n",
       "    </tr>\n",
       "    <tr>\n",
       "      <th>1</th>\n",
       "      <td>1.0</td>\n",
       "      <td>1.0</td>\n",
       "      <td>150.0</td>\n",
       "      <td>40.0</td>\n",
       "      <td>1.0</td>\n",
       "      <td>4</td>\n",
       "      <td>1.48</td>\n",
       "      <td>1000.0</td>\n",
       "      <td>3000.0</td>\n",
       "      <td>f</td>\n",
       "      <td>strict</td>\n",
       "    </tr>\n",
       "    <tr>\n",
       "      <th>2</th>\n",
       "      <td>7.0</td>\n",
       "      <td>5.0</td>\n",
       "      <td>975.0</td>\n",
       "      <td>300.0</td>\n",
       "      <td>4.5</td>\n",
       "      <td>11</td>\n",
       "      <td>1.15</td>\n",
       "      <td>NaN</td>\n",
       "      <td>NaN</td>\n",
       "      <td>f</td>\n",
       "      <td>strict</td>\n",
       "    </tr>\n",
       "    <tr>\n",
       "      <th>3</th>\n",
       "      <td>2.0</td>\n",
       "      <td>0.0</td>\n",
       "      <td>100.0</td>\n",
       "      <td>NaN</td>\n",
       "      <td>1.0</td>\n",
       "      <td>3</td>\n",
       "      <td>NaN</td>\n",
       "      <td>650.0</td>\n",
       "      <td>2300.0</td>\n",
       "      <td>f</td>\n",
       "      <td>flexible</td>\n",
       "    </tr>\n",
       "    <tr>\n",
       "      <th>4</th>\n",
       "      <td>3.0</td>\n",
       "      <td>3.0</td>\n",
       "      <td>450.0</td>\n",
       "      <td>125.0</td>\n",
       "      <td>2.0</td>\n",
       "      <td>6</td>\n",
       "      <td>0.89</td>\n",
       "      <td>NaN</td>\n",
       "      <td>NaN</td>\n",
       "      <td>f</td>\n",
       "      <td>strict</td>\n",
       "    </tr>\n",
       "  </tbody>\n",
       "</table>\n",
       "</div>"
      ],
      "text/plain": [
       "   beds  bedrooms  price  cleaning_fee  bathrooms  accommodates  \\\n",
       "0   1.0       1.0   85.0           NaN        1.0             4   \n",
       "1   1.0       1.0  150.0          40.0        1.0             4   \n",
       "2   7.0       5.0  975.0         300.0        4.5            11   \n",
       "3   2.0       0.0  100.0           NaN        1.0             3   \n",
       "4   3.0       3.0  450.0         125.0        2.0             6   \n",
       "\n",
       "   reviews_per_month  weekly_price  monthly_price instant_bookable  \\\n",
       "0               4.07           NaN            NaN                f   \n",
       "1               1.48        1000.0         3000.0                f   \n",
       "2               1.15           NaN            NaN                f   \n",
       "3                NaN         650.0         2300.0                f   \n",
       "4               0.89           NaN            NaN                f   \n",
       "\n",
       "  cancellation_policy  \n",
       "0            moderate  \n",
       "1              strict  \n",
       "2              strict  \n",
       "3            flexible  \n",
       "4              strict  "
      ]
     },
     "execution_count": 7,
     "metadata": {},
     "output_type": "execute_result"
    }
   ],
   "source": [
    "# Cleaning of the dataset\n",
    "\n",
    "# Pick few important variables that influence the price to predict the listing price\n",
    "df2 = listings_df[['beds','bedrooms','price',\n",
    "                  'cleaning_fee','bathrooms','accommodates','reviews_per_month',\n",
    "                  'weekly_price','monthly_price','instant_bookable','cancellation_policy']]\n",
    "df2.head(5)"
   ]
  },
  {
   "cell_type": "code",
   "execution_count": 23,
   "id": "cbf2be7a",
   "metadata": {},
   "outputs": [
    {
     "data": {
      "text/plain": [
       "<AxesSubplot:>"
      ]
     },
     "execution_count": 23,
     "metadata": {},
     "output_type": "execute_result"
    },
    {
     "data": {
      "image/png": "[encoded data removed]",
      "text/plain": [
       "<Figure size 432x288 with 2 Axes>"
      ]
     },
     "metadata": {
      "needs_background": "light"
     },
     "output_type": "display_data"
    }
   ],
   "source": [
    "# show correlation amongs the features\n",
    "sns.heatmap(df2.corr(), annot=True)"
   ]
  },
  {
   "cell_type": "code",
   "execution_count": 8,
   "id": "ab175add",
   "metadata": {
    "collapsed": true
   },
   "outputs": [
    {
     "name": "stderr",
     "output_type": "stream",
     "text": [
      "/var/folders/yy/x3d2mrqx4zdc2sh5v1gfd0b80000gn/T/ipykernel_799/4013295059.py:4: SettingWithCopyWarning: \n",
      "A value is trying to be set on a copy of a slice from a DataFrame.\n",
      "Try using .loc[row_indexer,col_indexer] = value instead\n",
      "\n",
      "See the caveats in the documentation: https://pandas.pydata.org/pandas-docs/stable/user_guide/indexing.html#returning-a-view-versus-a-copy\n",
      "  df2.loc[:,col] = df2[col].fillna(df2[col].mean())\n"
     ]
    }
   ],
   "source": [
    "# fill the numeric columns with the mean\n",
    "num_vars= df2.select_dtypes(include=['int','float']).columns\n",
    "for col in num_vars:\n",
    "    df2.loc[:,col] = df2[col].fillna(df2[col].mean())"
   ]
  },
  {
   "cell_type": "code",
   "execution_count": 9,
   "id": "0561b59f",
   "metadata": {},
   "outputs": [],
   "source": [
    "# Dummy catagorical columns\n",
    "cat_vars =df2.select_dtypes(include=['object','bool']).columns #list of categorical columns\n",
    "for col in cat_vars:\n",
    "    # for each catagorical col, dummy the var and drop original col\n",
    "    df2= pd.concat([df2.drop(col, axis=1), pd.get_dummies(df2[col], prefix=col, prefix_sep='_', drop_first=True)], axis=1)"
   ]
  },
  {
   "cell_type": "code",
   "execution_count": 10,
   "id": "2cae119e",
   "metadata": {
    "collapsed": true
   },
   "outputs": [
    {
     "name": "stdout",
     "output_type": "stream",
     "text": [
      "The test score >> 0.6106924826212423\n",
      "The train score >> 0.6127076826643214\n",
      "The r-squared score for the model is 0.6106924826212423 on 1146 values\n"
     ]
    },
    {
     "name": "stderr",
     "output_type": "stream",
     "text": [
      "/Library/Frameworks/Python.framework/Versions/3.10/lib/python3.10/site-packages/sklearn/linear_model/_base.py:141: FutureWarning: 'normalize' was deprecated in version 1.0 and will be removed in 1.2.\n",
      "If you wish to scale the data, use Pipeline with a StandardScaler in a preprocessing stage. To reproduce the previous behavior:\n",
      "\n",
      "from sklearn.pipeline import make_pipeline\n",
      "\n",
      "model = make_pipeline(StandardScaler(with_mean=False), LinearRegression())\n",
      "\n",
      "If you wish to pass a sample_weight parameter, you need to pass it as a fit parameter to each step of the pipeline as follows:\n",
      "\n",
      "kwargs = {s[0] + '__sample_weight': sample_weight for s in model.steps}\n",
      "model.fit(X, y, **kwargs)\n",
      "\n",
      "\n",
      "  warnings.warn(\n"
     ]
    }
   ],
   "source": [
    "# create the output and input variables for the model\n",
    "X= df2.drop('price', axis=1)\n",
    "y= df2['price']\n",
    "\n",
    "# split the data into train and test\n",
    "X_train, X_test, y_train, y_test = train_test_split(X, y, test_size = 0.3, random_state = 42)\n",
    "\n",
    "# define the model\n",
    "lm_model = LinearRegression(normalize = True)\n",
    "\n",
    "# fit the model with data\n",
    "lm_model.fit(X_train, y_train)\n",
    "\n",
    "# make a predict\n",
    "y_test_predict = lm_model.predict(X_test)\n",
    "y_train_predict = lm_model.predict(X_train)\n",
    "\n",
    "# Evaluate the predicts\n",
    "test_score = r2_score(y_test, y_test_predict)\n",
    "train_score = r2_score(y_train, y_train_predict)"
   ]
  },
  {
   "cell_type": "code",
   "execution_count": 11,
   "id": "508a692d",
   "metadata": {},
   "outputs": [
    {
     "name": "stdout",
     "output_type": "stream",
     "text": [
      "The test score >> 0.6106924826212423\n",
      "The train score >> 0.6127076826643214\n",
      "The r-squared score for the model is 0.6106924826212423 on 1146 values\n"
     ]
    }
   ],
   "source": [
    "print(f\"The test score >> {test_score}\")\n",
    "print(f\"The train score >> {train_score}\")\n",
    "\n",
    "print(f\"The r-squared score for the model is {test_score} on {len(y_test)} values\")"
   ]
  },
  {
   "cell_type": "markdown",
   "id": "46dc5416",
   "metadata": {},
   "source": [
    "# Evaluations"
   ]
  },
  {
   "cell_type": "code",
   "execution_count": 42,
   "id": "7c7f47ed",
   "metadata": {},
   "outputs": [
    {
     "name": "stdout",
     "output_type": "stream",
     "text": [
      "Rank features by their impact on the price: \n",
      "                 Variable feature       coef   abs_coef\n",
      "3                      bathrooms  16.965889  16.965889\n",
      "4                   accommodates  11.605794  11.605794\n",
      "1                       bedrooms  10.722350  10.722350\n",
      "5              reviews_per_month  -3.330174   3.330174\n",
      "0                           beds  -2.768310   2.768310\n",
      "9   cancellation_policy_moderate  -2.033063   2.033063\n",
      "8             instant_bookable_t   2.009741   2.009741\n",
      "10    cancellation_policy_strict   0.520683   0.520683\n",
      "2                   cleaning_fee   0.393119   0.393119\n",
      "6                   weekly_price   0.082866   0.082866\n",
      "7                  monthly_price   0.001238   0.001238 \n",
      "\n"
     ]
    }
   ],
   "source": [
    "# variable features impact on the price\n",
    "coef_df = pd.DataFrame()\n",
    "coef_df['Variable feature'] = X_train.columns\n",
    "coef_df['coef'] = lm_model.coef_\n",
    "coef_df['abs_coef'] = np.abs(lm_model.coef_)\n",
    "coef_df = coef_df.sort_values(by=['abs_coef'], ascending=False)\n",
    "print('Rank features by their impact on the price: \\n', coef_df, '\\n')"
   ]
  },
  {
   "cell_type": "code",
   "execution_count": 41,
   "id": "b86565ae",
   "metadata": {},
   "outputs": [
    {
     "data": {
      "image/png": "[encoded data removed]",
      "text/plain": [
       "<Figure size 1080x360 with 1 Axes>"
      ]
     },
     "metadata": {
      "needs_background": "light"
     },
     "output_type": "display_data"
    }
   ],
   "source": [
    "# plot influence of varible features on price\n",
    "plt.figure(figsize = (15,5))\n",
    "plt.bar(coef_df['Variable feature'], coef_df['abs_coef'])\n",
    "plt.xlabel('features')\n",
    "plt.xticks(coef_df['Variable feature'], rotation = 90)\n",
    "plt.ylabel('abs_coef')\n",
    "plt.title('Influence of the feature on the price')\n",
    "plt.show()"
   ]
  },
  {
   "cell_type": "markdown",
   "id": "de3900e1",
   "metadata": {},
   "source": [
    "# Question 3: The factors that influence the listing price\n",
    "\n",
    "The impact of certain features like property type and zipcode can not excluded. In addition, bedrooms, accommodates and bathrooms show tremendous impact on the listing price"
   ]
  }
 ],
 "metadata": {
  "kernelspec": {
   "display_name": "Python 3 (ipykernel)",
   "language": "python",
   "name": "python3"
  },
  "language_info": {
   "codemirror_mode": {
    "name": "ipython",
    "version": 3
   },
   "file_extension": ".py",
   "mimetype": "text/x-python",
   "name": "python",
   "nbconvert_exporter": "python",
   "pygments_lexer": "ipython3",
   "version": "3.10.5"
  }
 },
 "nbformat": 4,
 "nbformat_minor": 5
}
